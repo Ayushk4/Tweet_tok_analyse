{
 "cells": [
  {
   "cell_type": "code",
   "execution_count": 1,
   "metadata": {},
   "outputs": [],
   "source": [
    "using CorpusLoaders, DataDeps, WordTokenizers"
   ]
  },
  {
   "cell_type": "code",
   "execution_count": 2,
   "metadata": {},
   "outputs": [
    {
     "data": {
      "text/plain": [
       "126678"
      ]
     },
     "execution_count": 2,
     "metadata": {},
     "output_type": "execute_result"
    }
   ],
   "source": [
    "files = IMDB()\n",
    "\n",
    "sents = Array{String,1}()\n",
    "for file in files.filepaths\n",
    "    open(file) do fileio\n",
    "        for sent in split_sentences(read(fileio, String))\n",
    "            push!(sents, sent)\n",
    "        end\n",
    "    end\n",
    "end\n",
    "\n",
    "length(sents)"
   ]
  },
  {
   "cell_type": "code",
   "execution_count": 3,
   "metadata": {},
   "outputs": [],
   "source": [
    "################################\n",
    "#                              #\n",
    "#      WordTokenizers.jl       #\n",
    "#                              #\n",
    "################################"
   ]
  },
  {
   "cell_type": "code",
   "execution_count": 4,
   "metadata": {},
   "outputs": [
    {
     "name": "stdout",
     "output_type": "stream",
     "text": [
      "  6.488322 seconds (14.83 M allocations: 783.291 MiB, 11.65% gc time)\n"
     ]
    },
    {
     "data": {
      "text/plain": [
       "126678-element Array{Array{String,1},1}:\n",
       " [\"Bromwell\", \"High\", \"is\", \"a\", \"cartoon\", \"comedy\", \".\"]                                                                                                                             \n",
       " [\"It\", \"ran\", \"at\", \"the\", \"same\", \"time\", \"as\", \"some\", \"other\", \"programs\", \"about\", \"school\", \"life\", \",\", \"such\", \"as\", \"``\", \"Teachers\", \"''\", \".\"]                              \n",
       " [\"My\", \"35\", \"years\", \"in\", \"the\", \"teaching\", \"profession\", \"lead\", \"me\", \"to\"  …  \"much\", \"closer\", \"to\", \"reality\", \"than\", \"is\", \"``\", \"Teachers\", \"''\", \".\"]                     \n",
       " [\"The\", \"scramble\", \"to\", \"survive\", \"financially\", \",\", \"the\", \"insightful\", \"students\", \"who\"  …  \"me\", \"of\", \"the\", \"schools\", \"I\", \"knew\", \"and\", \"their\", \"students\", \".\"]       \n",
       " [\"When\", \"I\", \"saw\", \"the\", \"episode\", \"in\", \"which\", \"a\", \"student\", \"repeatedly\"  …  \"immediately\", \"recalled\", \"...\", \"...\", \"...\", \"at\", \"...\", \"...\", \"...\", \".\"]                \n",
       " [\"High\", \".\"]                                                                                                                                                                         \n",
       " [\"A\", \"classic\", \"line\", \":\", \"INSPECTOR\", \":\", \"I\", \"'m\", \"here\", \"to\", \"sack\", \"one\", \"of\", \"your\", \"teachers\", \".\"]                                                                \n",
       " [\"STUDENT\", \":\", \"Welcome\", \"to\", \"Bromwell\", \"High\", \".\"]                                                                                                                            \n",
       " [\"I\", \"expect\", \"that\", \"many\", \"adults\", \"of\", \"my\", \"age\", \"think\", \"that\", \"Bromwell\", \"High\", \"is\", \"far\", \"fetched\", \".\"]                                                        \n",
       " [\"What\", \"a\", \"pity\", \"that\", \"it\", \"is\", \"n't\", \"!\"]                                                                                                                                 \n",
       " [\"Homelessness\", \"(\", \"or\", \"Houselessness\", \"as\", \"George\", \"Carlin\", \"stated\", \")\", \"has\"  …  \"school\", \",\", \"work\", \",\", \"or\", \"vote\", \"for\", \"the\", \"matter\", \".\"]                \n",
       " [\"Most\", \"people\", \"think\", \"of\", \"the\", \"homeless\", \"as\", \"just\", \"a\", \"lost\"  …  \"to\", \"see\", \"what\", \"it\", \"'s\", \"like\", \"to\", \"be\", \"homeless\", \"?\"]                              \n",
       " [\"That\", \"is\", \"Goddard\", \"Bolt\", \"'s\", \"lesson.<br\", \"/\", \"><br\", \"/\", \">Mel\"  …  \"wants\", \"with\", \"a\", \"future\", \"project\", \"of\", \"making\", \"more\", \"buildings\", \".\"]               \n",
       " ⋮                                                                                                                                                                                     \n",
       " [\"A\", \"few\", \"years\", \"ago\", \",\", \"I\", \"was\", \"finally\", \"able\", \"to\"  …  \"see\", \"John\", \"and\", \"the\", \"Muppets\", \"in\", \"action\", \"for\", \"myself\", \".\"]                               \n",
       " [\"If\", \"you\", \"ever\", \"get\", \"the\", \"chance\", \",\", \"it\", \"'s\", \"a\"  …  \"of\", \"fun\", \"--\", \"great\", \"music\", \",\", \"heart-warming\", \"and\", \"cheesy\", \".\"]                               \n",
       " [\"It\", \"'s\", \"also\", \"interesting\", \"to\", \"see\", \"the\", \"70\", \"'\", \"s\"  …  \"Muppets\", \"and\", \"compare\", \"them\", \"to\", \"their\", \"newer\", \"versions\", \"today\", \".\"]                     \n",
       " [\"I\", \"believe\", \"Denver\", \"actually\", \"took\", \"some\", \"heat\", \"for\", \"doing\", \"a\"  …  \"the\", \"Muppets\", \",\", \"but\", \"I\", \"'m\", \"glad\", \"he\", \"did\", \".\"]                             \n",
       " [\"Even\", \"if\", \"you\", \"ca\", \"n't\", \"track\", \"down\", \"the\", \"video\", \",\", \"the\", \"soundtrack\", \"is\", \"worth\", \"it\", \"too\", \".\"]                                                        \n",
       " [\"It\", \"has\", \"some\", \"Muppified\", \"traditional\", \"favorites\", \",\", \"but\", \"also\", \"some\", \"original\", \"Denver\", \"tunes\", \"as\", \"well\", \".\"]                                          \n",
       " [\"Working-class\", \"romantic\", \"drama\", \"from\", \"director\", \"Martin\", \"Ritt\", \"is\", \"as\", \"unbelievable\"  …  \"Fonda\", \"and\", \"Robert\", \"De\", \"Niro\", \"(\", \"both\", \"terrific\", \")\", \".\"]\n",
       " [\"She\", \"'s\", \"a\", \"widow\", \"who\", \"ca\", \"n't\", \"move\", \"on\", \",\"  …  \"a\", \"closet-inventor\", \"--\", \"you\", \"can\", \"probably\", \"guess\", \"the\", \"rest\", \".\"]                            \n",
       " [\"Adaptation\", \"of\", \"Pat\", \"Barker\", \"'s\", \"novel\", \"``\", \"Union\", \"Street\", \"''\"  …  \"it\", \"'s\", \"still\", \"pleasant\", \";\", \"a\", \"rosy-hued\", \"blue-collar\", \"fantasy\", \".\"]         \n",
       " [\"There\", \"are\", \"no\", \"overtures\", \"to\", \"serious\", \"issues\", \"(\", \"even\", \"the\"  …  \"the\", \"leads\", \"are\", \"toned\", \"down\", \"to\", \"an\", \"interesting\", \"degree\", \".\"]               \n",
       " [\"The\", \"finale\", \"is\", \"pure\", \"fluff\", \"--\", \"and\", \"cynics\", \"will\", \"find\"  …  \"picture\", \"would\", \"n't\", \"really\", \"be\", \"satisfying\", \"any\", \"other\", \"way\", \".\"]               \n",
       " [\"*\", \"*\", \"*\", \"from\", \"*\", \"*\", \"*\", \"*\"]                                                                                                                                           "
      ]
     },
     "execution_count": 4,
     "metadata": {},
     "output_type": "execute_result"
    }
   ],
   "source": [
    "using WordTokenizers\n",
    "@time nltk_word_tokenize.(sents)"
   ]
  },
  {
   "cell_type": "code",
   "execution_count": 5,
   "metadata": {
    "scrolled": true
   },
   "outputs": [
    {
     "name": "stdout",
     "output_type": "stream",
     "text": [
      " 24.139985 seconds (1.08 M allocations: 36.156 MiB, 0.14% gc time)\n"
     ]
    },
    {
     "data": {
      "text/plain": [
       "126678-element Array{PyObject,1}:\n",
       " PyObject Bromwell High is a cartoon comedy.                                                                                                                                                                                                                                                                                                                                                                                                                                                                                       \n",
       " PyObject It ran at the same time as some other programs about school life, such as \"Teachers\".                                                                                                                                                                                                                                                                                                                                                                                                                                    \n",
       " PyObject My 35 years in the teaching profession lead me to believe that Bromwell High's satire is much closer to reality than is \"Teachers\".                                                                                                                                                                                                                                                                                                                                                                                      \n",
       " PyObject The scramble to survive financially, the insightful students who can see right through their pathetic teachers' pomp, the pettiness of the whole situation, all remind me of the schools I knew and their students.                                                                                                                                                                                                                                                                                                      \n",
       " PyObject When I saw the episode in which a student repeatedly tried to burn down the school, I immediately recalled ......... at ..........                                                                                                                                                                                                                                                                                                                                                                                       \n",
       " PyObject High.                                                                                                                                                                                                                                                                                                                                                                                                                                                                                                                    \n",
       " PyObject A classic line: INSPECTOR: I'm here to sack one of your teachers.                                                                                                                                                                                                                                                                                                                                                                                                                                                        \n",
       " PyObject STUDENT: Welcome to Bromwell High.                                                                                                                                                                                                                                                                                                                                                                                                                                                                                       \n",
       " PyObject I expect that many adults of my age think that Bromwell High is far fetched.                                                                                                                                                                                                                                                                                                                                                                                                                                             \n",
       " PyObject What a pity that it isn't!                                                                                                                                                                                                                                                                                                                                                                                                                                                                                               \n",
       " PyObject Homelessness (or Houselessness as George Carlin stated) has been an issue for years but never a plan to help those on the street that were once considered human who did everything from going to school, work, or vote for the matter.                                                                                                                                                                                                                                                                                  \n",
       " PyObject Most people think of the homeless as just a lost cause while worrying about things such as racism, the war on Iraq, pressuring kids to succeed, technology, the elections, inflation, or worrying if they'll be next to end up on the streets.<br /><br />But what if you were given a bet to live on the streets for a month without the luxuries you once had from a home, the entertainment sets, a bathroom, pictures on the wall, a computer, and everything you once treasure to see what it's like to be homeless?\n",
       " PyObject That is Goddard Bolt's lesson.<br /><br />Mel Brooks (who directs) who stars as Bolt plays a rich man who has everything in the world until deciding to make a bet with a sissy rival (Jeffery Tambor) to see if he can live in the streets for thirty days without the luxuries; if Bolt succeeds, he can do what he wants with a future project of making more buildings.                                                                                                                                              \n",
       " ⋮                                                                                                                                                                                                                                                                                                                                                                                                                                                                                                                                 \n",
       " PyObject A few years ago, I was finally able to track down a video of it on Ebay, so after listening to all the music for some 21 years, I got to see John and the Muppets in action for myself.                                                                                                                                                                                                                                                                                                                                  \n",
       " PyObject If you ever get the chance, it's a lot of fun--great music, heart-warming and cheesy.                                                                                                                                                                                                                                                                                                                                                                                                                                    \n",
       " PyObject It's also interesting to see the 70's versions of the Muppets and compare them to their newer versions today.                                                                                                                                                                                                                                                                                                                                                                                                            \n",
       " PyObject I believe Denver actually took some heat for doing a show like this--I guess normally performers don't compromise their images by doing sing-a-longs with the Muppets, but I'm glad he did.                                                                                                                                                                                                                                                                                                                              \n",
       " PyObject Even if you can't track down the video, the soundtrack is worth it too.                                                                                                                                                                                                                                                                                                                                                                                                                                                  \n",
       " PyObject It has some Muppified traditional favorites, but also some original Denver tunes as well.                                                                                                                                                                                                                                                                                                                                                                                                                                \n",
       " PyObject Working-class romantic drama from director Martin Ritt is as unbelievable as they come, yet there are moments of pleasure due mostly to the charisma of stars Jane Fonda and Robert De Niro (both terrific).                                                                                                                                                                                                                                                                                                             \n",
       " PyObject She's a widow who can't move on, he's illiterate and a closet-inventor--you can probably guess the rest.                                                                                                                                                                                                                                                                                                                                                                                                                 \n",
       " PyObject Adaptation of Pat Barker's novel \"Union Street\" (a better title!) is so laid-back it verges on bland, and the film's editing is a mess, but it's still pleasant; a rosy-hued blue-collar fantasy.                                                                                                                                                                                                                                                                                                                        \n",
       " PyObject There are no overtures to serious issues (even the illiteracy angle is just a plot-tool for the ensuing love story) and no real fireworks, though the characters are intentionally a bit colorless and the leads are toned down to an interesting degree.                                                                                                                                                                                                                                                                \n",
       " PyObject The finale is pure fluff--and cynics will find it difficult to swallow--though these two characters deserve a happy ending and the picture wouldn't really be satisfying any other way.                                                                                                                                                                                                                                                                                                                                  \n",
       " PyObject *** from ****                                                                                                                                                                                                                                                                                                                                                                                                                                                                                                            "
      ]
     },
     "execution_count": 5,
     "metadata": {},
     "output_type": "execute_result"
    }
   ],
   "source": [
    "################################\n",
    "#                              #\n",
    "#            SpaCy             #\n",
    "#                              #\n",
    "################################\n",
    "\n",
    "using PyCall\n",
    "en = pyimport(\"spacy.lang.en\")\n",
    "nlp = en.English()\n",
    "spacy_tokenizer = nlp.Defaults.create_tokenizer(nlp)\n",
    "@time spacy_tokenizer.(sents)"
   ]
  },
  {
   "cell_type": "code",
   "execution_count": 6,
   "metadata": {},
   "outputs": [
    {
     "name": "stdout",
     "output_type": "stream",
     "text": [
      " 32.180763 seconds (17.63 M allocations: 495.891 MiB, 4.39% gc time)\n"
     ]
    },
    {
     "data": {
      "text/plain": [
       "126678-element Array{Array{String,1},1}:\n",
       " [\"Bromwell\", \"High\", \"is\", \"a\", \"cartoon\", \"comedy\", \".\"]                                                                                                                             \n",
       " [\"It\", \"ran\", \"at\", \"the\", \"same\", \"time\", \"as\", \"some\", \"other\", \"programs\", \"about\", \"school\", \"life\", \",\", \"such\", \"as\", \"``\", \"Teachers\", \"''\", \".\"]                              \n",
       " [\"My\", \"35\", \"years\", \"in\", \"the\", \"teaching\", \"profession\", \"lead\", \"me\", \"to\"  …  \"much\", \"closer\", \"to\", \"reality\", \"than\", \"is\", \"``\", \"Teachers\", \"''\", \".\"]                     \n",
       " [\"The\", \"scramble\", \"to\", \"survive\", \"financially\", \",\", \"the\", \"insightful\", \"students\", \"who\"  …  \"me\", \"of\", \"the\", \"schools\", \"I\", \"knew\", \"and\", \"their\", \"students\", \".\"]       \n",
       " [\"When\", \"I\", \"saw\", \"the\", \"episode\", \"in\", \"which\", \"a\", \"student\", \"repeatedly\"  …  \"immediately\", \"recalled\", \"...\", \"...\", \"...\", \"at\", \"...\", \"...\", \"...\", \".\"]                \n",
       " [\"High\", \".\"]                                                                                                                                                                         \n",
       " [\"A\", \"classic\", \"line\", \":\", \"INSPECTOR\", \":\", \"I\", \"'m\", \"here\", \"to\", \"sack\", \"one\", \"of\", \"your\", \"teachers\", \".\"]                                                                \n",
       " [\"STUDENT\", \":\", \"Welcome\", \"to\", \"Bromwell\", \"High\", \".\"]                                                                                                                            \n",
       " [\"I\", \"expect\", \"that\", \"many\", \"adults\", \"of\", \"my\", \"age\", \"think\", \"that\", \"Bromwell\", \"High\", \"is\", \"far\", \"fetched\", \".\"]                                                        \n",
       " [\"What\", \"a\", \"pity\", \"that\", \"it\", \"is\", \"n't\", \"!\"]                                                                                                                                 \n",
       " [\"Homelessness\", \"(\", \"or\", \"Houselessness\", \"as\", \"George\", \"Carlin\", \"stated\", \")\", \"has\"  …  \"school\", \",\", \"work\", \",\", \"or\", \"vote\", \"for\", \"the\", \"matter\", \".\"]                \n",
       " [\"Most\", \"people\", \"think\", \"of\", \"the\", \"homeless\", \"as\", \"just\", \"a\", \"lost\"  …  \"to\", \"see\", \"what\", \"it\", \"'s\", \"like\", \"to\", \"be\", \"homeless\", \"?\"]                              \n",
       " [\"That\", \"is\", \"Goddard\", \"Bolt\", \"'s\", \"lesson.\", \"<\", \"br\", \"/\", \">\"  …  \"wants\", \"with\", \"a\", \"future\", \"project\", \"of\", \"making\", \"more\", \"buildings\", \".\"]                       \n",
       " ⋮                                                                                                                                                                                     \n",
       " [\"A\", \"few\", \"years\", \"ago\", \",\", \"I\", \"was\", \"finally\", \"able\", \"to\"  …  \"see\", \"John\", \"and\", \"the\", \"Muppets\", \"in\", \"action\", \"for\", \"myself\", \".\"]                               \n",
       " [\"If\", \"you\", \"ever\", \"get\", \"the\", \"chance\", \",\", \"it\", \"'s\", \"a\"  …  \"of\", \"fun\", \"--\", \"great\", \"music\", \",\", \"heart-warming\", \"and\", \"cheesy\", \".\"]                               \n",
       " [\"It\", \"'s\", \"also\", \"interesting\", \"to\", \"see\", \"the\", \"70\", \"'s\", \"versions\"  …  \"Muppets\", \"and\", \"compare\", \"them\", \"to\", \"their\", \"newer\", \"versions\", \"today\", \".\"]             \n",
       " [\"I\", \"believe\", \"Denver\", \"actually\", \"took\", \"some\", \"heat\", \"for\", \"doing\", \"a\"  …  \"the\", \"Muppets\", \",\", \"but\", \"I\", \"'m\", \"glad\", \"he\", \"did\", \".\"]                             \n",
       " [\"Even\", \"if\", \"you\", \"ca\", \"n't\", \"track\", \"down\", \"the\", \"video\", \",\", \"the\", \"soundtrack\", \"is\", \"worth\", \"it\", \"too\", \".\"]                                                        \n",
       " [\"It\", \"has\", \"some\", \"Muppified\", \"traditional\", \"favorites\", \",\", \"but\", \"also\", \"some\", \"original\", \"Denver\", \"tunes\", \"as\", \"well\", \".\"]                                          \n",
       " [\"Working-class\", \"romantic\", \"drama\", \"from\", \"director\", \"Martin\", \"Ritt\", \"is\", \"as\", \"unbelievable\"  …  \"Fonda\", \"and\", \"Robert\", \"De\", \"Niro\", \"(\", \"both\", \"terrific\", \")\", \".\"]\n",
       " [\"She\", \"'s\", \"a\", \"widow\", \"who\", \"ca\", \"n't\", \"move\", \"on\", \",\"  …  \"a\", \"closet-inventor\", \"--\", \"you\", \"can\", \"probably\", \"guess\", \"the\", \"rest\", \".\"]                            \n",
       " [\"Adaptation\", \"of\", \"Pat\", \"Barker\", \"'s\", \"novel\", \"``\", \"Union\", \"Street\", \"''\"  …  \"it\", \"'s\", \"still\", \"pleasant\", \";\", \"a\", \"rosy-hued\", \"blue-collar\", \"fantasy\", \".\"]         \n",
       " [\"There\", \"are\", \"no\", \"overtures\", \"to\", \"serious\", \"issues\", \"(\", \"even\", \"the\"  …  \"the\", \"leads\", \"are\", \"toned\", \"down\", \"to\", \"an\", \"interesting\", \"degree\", \".\"]               \n",
       " [\"The\", \"finale\", \"is\", \"pure\", \"fluff\", \"--\", \"and\", \"cynics\", \"will\", \"find\"  …  \"picture\", \"would\", \"n't\", \"really\", \"be\", \"satisfying\", \"any\", \"other\", \"way\", \".\"]               \n",
       " [\"***\", \"from\", \"****\"]                                                                                                                                                               "
      ]
     },
     "execution_count": 6,
     "metadata": {},
     "output_type": "execute_result"
    }
   ],
   "source": [
    "################################\n",
    "#                              #\n",
    "#             NLTK             #\n",
    "#                              #\n",
    "################################\n",
    "\n",
    "using PyCall\n",
    "nltk_tok = pyimport(\"nltk.tokenize\")\n",
    "nltk_tokenizer = nltk_tok.word_tokenize\n",
    "@time nltk_tokenizer.(sents)"
   ]
  },
  {
   "cell_type": "code",
   "execution_count": 7,
   "metadata": {},
   "outputs": [
    {
     "name": "stdout",
     "output_type": "stream",
     "text": [
      " 24.634809 seconds (64.59 M allocations: 4.216 GiB, 14.98% gc time)\n"
     ]
    },
    {
     "data": {
      "text/plain": [
       "126678-element Array{Array{String,1},1}:\n",
       " [\"Bromwell\", \"High\", \"is\", \"a\", \"cartoon\", \"comedy\", \".\"]                                                                                                                             \n",
       " [\"It\", \"ran\", \"at\", \"the\", \"same\", \"time\", \"as\", \"some\", \"other\", \"programs\", \"about\", \"school\", \"life\", \",\", \"such\", \"as\", \"\\\"\", \"Teachers\", \"\\\"\", \".\"]                              \n",
       " [\"My\", \"35\", \"years\", \"in\", \"the\", \"teaching\", \"profession\", \"lead\", \"me\", \"to\"  …  \"much\", \"closer\", \"to\", \"reality\", \"than\", \"is\", \"\\\"\", \"Teachers\", \"\\\"\", \".\"]                     \n",
       " [\"The\", \"scramble\", \"to\", \"survive\", \"financially\", \",\", \"the\", \"insightful\", \"students\", \"who\"  …  \"me\", \"of\", \"the\", \"schools\", \"I\", \"knew\", \"and\", \"their\", \"students\", \".\"]       \n",
       " [\"When\", \"I\", \"saw\", \"the\", \"episode\", \"in\", \"which\", \"a\", \"student\", \"repeatedly\"  …  \"to\", \"burn\", \"down\", \"the\", \"school\", \",\", \"I\", \"immediately\", \"recalled\", \"at\"]              \n",
       " [\"High\", \".\"]                                                                                                                                                                         \n",
       " [\"A\", \"classic\", \"line\", \":\", \"INSPECTOR\", \":\", \"I\", \"'\", \"m\", \"here\", \"to\", \"sack\", \"one\", \"of\", \"your\", \"teachers\", \".\"]                                                            \n",
       " [\"STUDENT\", \":\", \"Welcome\", \"to\", \"Bromwell\", \"High\", \".\"]                                                                                                                            \n",
       " [\"I\", \"expect\", \"that\", \"many\", \"adults\", \"of\", \"my\", \"age\", \"think\", \"that\", \"Bromwell\", \"High\", \"is\", \"far\", \"fetched\", \".\"]                                                        \n",
       " [\"What\", \"a\", \"pity\", \"that\", \"it\", \"isn\", \"'\", \"t\", \"!\"]                                                                                                                             \n",
       " [\"Homelessness\", \"(\", \"or\", \"Houselessness\", \"as\", \"George\", \"Carlin\", \"stated\", \")\", \"has\"  …  \"school\", \",\", \"work\", \",\", \"or\", \"vote\", \"for\", \"the\", \"matter\", \".\"]                \n",
       " [\"Most\", \"people\", \"think\", \"of\", \"the\", \"homeless\", \"as\", \"just\", \"a\", \"lost\"  …  \"see\", \"what\", \"it\", \"'\", \"s\", \"like\", \"to\", \"be\", \"homeless\", \"?\"]                                \n",
       " [\"That\", \"is\", \"Goddard\", \"Bolt\", \"'\", \"s\", \"lesson.<br\", \"/\", \"><br\", \"/\"  …  \"wants\", \"with\", \"a\", \"future\", \"project\", \"of\", \"making\", \"more\", \"buildings\", \".\"]                   \n",
       " ⋮                                                                                                                                                                                     \n",
       " [\"A\", \"few\", \"years\", \"ago\", \",\", \"I\", \"was\", \"finally\", \"able\", \"to\"  …  \"see\", \"John\", \"and\", \"the\", \"Muppets\", \"in\", \"action\", \"for\", \"myself\", \".\"]                               \n",
       " [\"If\", \"you\", \"ever\", \"get\", \"the\", \"chance\", \",\", \"it\", \"'\", \"s\", \"a\", \"lot\", \"of\", \"fungreat\", \"music\", \",\", \"heart-warming\", \"and\", \"cheesy\", \".\"]                                 \n",
       " [\"It\", \"'\", \"s\", \"also\", \"interesting\", \"to\", \"see\", \"the\", \"70\", \"'\"  …  \"Muppets\", \"and\", \"compare\", \"them\", \"to\", \"their\", \"newer\", \"versions\", \"today\", \".\"]                      \n",
       " [\"I\", \"believe\", \"Denver\", \"actually\", \"took\", \"some\", \"heat\", \"for\", \"doing\", \"a\"  …  \"Muppets\", \",\", \"but\", \"I\", \"'\", \"m\", \"glad\", \"he\", \"did\", \".\"]                                \n",
       " [\"Even\", \"if\", \"you\", \"can\", \"'\", \"t\", \"track\", \"down\", \"the\", \"video\", \",\", \"the\", \"soundtrack\", \"is\", \"worth\", \"it\", \"too\", \".\"]                                                    \n",
       " [\"It\", \"has\", \"some\", \"Muppified\", \"traditional\", \"favorites\", \",\", \"but\", \"also\", \"some\", \"original\", \"Denver\", \"tunes\", \"as\", \"well\", \".\"]                                          \n",
       " [\"Working-class\", \"romantic\", \"drama\", \"from\", \"director\", \"Martin\", \"Ritt\", \"is\", \"as\", \"unbelievable\"  …  \"Fonda\", \"and\", \"Robert\", \"De\", \"Niro\", \"(\", \"both\", \"terrific\", \")\", \".\"]\n",
       " [\"She\", \"'\", \"s\", \"a\", \"widow\", \"who\", \"can\", \"'\", \"t\", \"move\"  …  \"illiterate\", \"and\", \"a\", \"closet-inventoryou\", \"can\", \"probably\", \"guess\", \"the\", \"rest\", \".\"]                    \n",
       " [\"Adaptation\", \"of\", \"Pat\", \"Barker\", \"'\", \"s\", \"novel\", \"\\\"\", \"Union\", \"Street\"  …  \"'\", \"s\", \"still\", \"pleasant\", \";\", \"a\", \"rosy-hued\", \"blue-collar\", \"fantasy\", \".\"]             \n",
       " [\"There\", \"are\", \"no\", \"overtures\", \"to\", \"serious\", \"issues\", \"(\", \"even\", \"the\"  …  \"the\", \"leads\", \"are\", \"toned\", \"down\", \"to\", \"an\", \"interesting\", \"degree\", \".\"]               \n",
       " [\"The\", \"finale\", \"is\", \"pure\", \"fluffand\", \"cynics\", \"will\", \"find\", \"it\", \"difficult\"  …  \"wouldn\", \"'\", \"t\", \"really\", \"be\", \"satisfying\", \"any\", \"other\", \"way\", \".\"]             \n",
       " [\"*\", \"*\", \"*\", \"from\", \"*\", \"*\", \"*\", \"*\"]                                                                                                                                           "
      ]
     },
     "execution_count": 7,
     "metadata": {},
     "output_type": "execute_result"
    }
   ],
   "source": [
    "##\n",
    "# Multi - lingual tok-tok tokenizer of WordTokenizers.jl\n",
    "##\n",
    "\n",
    "@time tokenize.(sents)"
   ]
  },
  {
   "cell_type": "code",
   "execution_count": null,
   "metadata": {},
   "outputs": [],
   "source": []
  }
 ],
 "metadata": {
  "kernelspec": {
   "display_name": "Julia 1.0.3",
   "language": "julia",
   "name": "julia-1.0"
  },
  "language_info": {
   "file_extension": ".jl",
   "mimetype": "application/julia",
   "name": "julia",
   "version": "1.0.3"
  }
 },
 "nbformat": 4,
 "nbformat_minor": 2
}
