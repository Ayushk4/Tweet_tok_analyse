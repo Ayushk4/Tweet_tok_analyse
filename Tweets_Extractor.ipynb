{
 "cells": [
  {
   "cell_type": "code",
   "execution_count": 18,
   "metadata": {},
   "outputs": [],
   "source": [
    "using Twitter\n",
    "using JSON"
   ]
  },
  {
   "cell_type": "code",
   "execution_count": 16,
   "metadata": {},
   "outputs": [
    {
     "name": "stdout",
     "output_type": "stream",
     "text": [
      "\n"
     ]
    }
   ],
   "source": [
    "# Variables that contains the user credentials to access Twitter API \n",
    "access_token = ENV[\"TWITTER_ACCESS_TOKEN\"]\n",
    "access_token_secret = ENV[\"TWITTER_ACCESS_SECRET\"]\n",
    "consumer_key = ENV[\"TWITTER_CONSUMER_KEY\"]\n",
    "consumer_secret = ENV[\"TWITTER_CONSUMER_SECRET\"]\n",
    "\n",
    "# Authenticating the session\n",
    "twitterauth(consumer_key, consumer_secret, access_token, access_token_secret)\n"
   ]
  },
  {
   "cell_type": "code",
   "execution_count": 8,
   "metadata": {},
   "outputs": [],
   "source": [
    "search_keys = [\"Emoji\", \"Unicode\", \"Zango Text\", \"Twitter Error\", \"Emoticons\", \"Tweet Error\"]\n",
    "tweets_with_category = Dict{Any, Any}()\n",
    "\n",
    "for key in search_keys\n",
    "    tweets = [] # Stores tweets of this category\n",
    "    max_id = 3000000000000000000 # This gives the max_id of tweet that should be called from the twitter api\n",
    "\n",
    "    for j in 1:20 # Matches to the rate limit\n",
    "        emoji_tweets = get_search_tweets(q=key, tweet_mode=\"extended\", lang=\"en\", count=\"100\", max_id=max_id)\n",
    "\n",
    "        for i in emoji_tweets[\"statuses\"]\n",
    "            cleaned_tweet = strip(i[\"full_text\"])\n",
    "\n",
    "            if cleaned_tweet ∉ tweets\n",
    "                if length(cleaned_tweet) > 5\n",
    "                    push!(tweets, cleaned_tweet)\n",
    "                end\n",
    "                if max_id > i[\"id\"]\n",
    "                    max_id = i[\"id\"]\n",
    "                end\n",
    "            end\n",
    "\n",
    "        end\n",
    "    end\n",
    "\n",
    "    tweets_with_category[key] = tweets\n",
    "\n",
    "    sleep(10)\n",
    "end\n",
    "\n"
   ]
  },
  {
   "cell_type": "code",
   "execution_count": 15,
   "metadata": {},
   "outputs": [
    {
     "data": {
      "text/plain": [
      ]
     },
     "execution_count": 15,
     "metadata": {},
     "output_type": "execute_result"
    }
   ],
   "source": [
    "json_string = JSON.json(tweets_with_category,4)\n",
    "\n",
    "open(\"tweets_scrapped.json\", \"w\") do f1\n",
    "    write(f1,json_string)\n",
    "end"
   ]
  }
 ],
 "metadata": {
  "kernelspec": {
   "display_name": "Julia 1.0.3",
   "language": "julia",
   "name": "julia-1.0"
  },
  "language_info": {
   "file_extension": ".jl",
   "mimetype": "application/julia",
   "name": "julia",
   "version": "1.0.3"
  }
 },
 "nbformat": 4,
 "nbformat_minor": 2
}
