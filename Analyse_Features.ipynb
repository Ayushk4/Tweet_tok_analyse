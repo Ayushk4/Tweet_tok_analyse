{
 "cells": [
  {
   "cell_type": "code",
   "execution_count": 10,
   "metadata": {},
   "outputs": [],
   "source": [
    "using JSON\n",
    "using HTML_Entities\n",
    "using StrTables\n",
    "using StringEncodings\n",
    "using Unicode"
   ]
  },
  {
   "cell_type": "code",
   "execution_count": 11,
   "metadata": {},
   "outputs": [
    {
     "data": {
      "text/plain": [
       "Dict{String,Any} with 6 entries:\n",
       "  \"Twitter Error\" => Any[\"Two thousand years of error? Pope Francis moves close…\n",
       "  \"Emoji\"         => Any[\"me, tryna tell jae jyp spent over 1M on the emoji:\\n\\…\n",
       "  \"Zango Text\"    => Any[]\n",
       "  \"Unicode\"       => Any[\"Soon to be added to https://t.co/VUHHW9p7dN! Yi Sylla…\n",
       "  \"Tweet Error\"   => Any[\"RT @del_bangtan: BB has become the Allkpp and Kboo of…\n",
       "  \"Emoticons\"     => Any[\"who's the anon flirting with papi....... pLs stop the…"
      ]
     },
     "execution_count": 11,
     "metadata": {},
     "output_type": "execute_result"
    }
   ],
   "source": [
    "API_Tweets = Dict()\n",
    "open(\"Twitter_API_tweets.json\", \"r\") do f\n",
    "    global API_Tweets\n",
    "    dicttxt = read(f,String)  # file information to string\n",
    "    API_Tweets=JSON.parse(dicttxt)  # parse and transform data\n",
    "end\n"
   ]
  },
  {
   "cell_type": "code",
   "execution_count": 12,
   "metadata": {},
   "outputs": [],
   "source": [
    "KAGGLE_Tweets_Emoji_Competition = []\n",
    "\n",
    "for line in eachline(open(\"tweets_emoji_competition.txt\"))\n",
    "    push!(KAGGLE_Tweets_Emoji_Competition, line)\n",
    "end\n",
    "\n",
    "KAGGLE_Tweets_User_Jan = []\n",
    "\n",
    "for line in eachline(open(\"tweets_user_jan_2019.txt\"))\n",
    "    push!(KAGGLE_Tweets_User_Jan, line)\n",
    "end\n",
    "\n"
   ]
  },
  {
   "cell_type": "code",
   "execution_count": 13,
   "metadata": {},
   "outputs": [
    {
     "name": "stderr",
     "output_type": "stream",
     "text": [
      "WARNING: redefining constant EMOTICONS_REGEX\n",
      "WARNING: redefining constant URLS\n",
      "WARNING: redefining constant PHONE_NUMBERS\n",
      "WARNING: redefining constant HTML_TAGS\n",
      "WARNING: redefining constant ASCII_ARROWS\n",
      "WARNING: redefining constant TWITTER_USERNAME\n",
      "WARNING: redefining constant TWITTER_HASHTAGS\n",
      "WARNING: redefining constant EMAIL_ADDRESSES\n",
      "WARNING: redefining constant WORDS_WITH_APOSTROPHE_DASHES\n",
      "WARNING: redefining constant NUMBERS_FRACTIONS_DECIMALS\n",
      "WARNING: redefining constant ELLIPSIS_DOTS\n",
      "WARNING: redefining constant WORDS_WITHOUT_APOSTROPHE_DASHES\n",
      "WARNING: redefining constant WORD_REGEX\n",
      "WARNING: redefining constant HANG_REGEX\n",
      "WARNING: redefining constant HTML_ENTITIES_REGEX\n",
      "WARNING: redefining constant HANDLES_REGEX\n"
     ]
    },
    {
     "data": {
      "text/plain": [
       "r\"(?x)\n",
       "(?<![A-Za-z0-9_!@#\\$%&*])@(([A-Za-z0-9_]){20}(?!@))\n",
       "|\n",
       "(?<![A-Za-z0-9_!@#\\$%&*])@(([A-Za-z0-9_]){1,19})(?![A-Za-z0-9_]*@)\n",
       "\""
      ]
     },
     "execution_count": 13,
     "metadata": {},
     "output_type": "execute_result"
    }
   ],
   "source": [
    "const EMOTICONS_REGEX = r\"\"\"(?x)\n",
    "            (?:\n",
    "             [<>]?\n",
    "             [:;=8]\n",
    "             [\\-o\\*\\']?\n",
    "             [\\)\\]\\(\\[dDpP/\\:\\}\\{@\\|\\\\]\n",
    "             |\n",
    "             [\\)\\]\\(\\[dDpP/\\:\\}\\{@\\|\\\\]\n",
    "             [\\-o\\*\\']?\n",
    "             [:;=8]\n",
    "             [<>]?\n",
    "             |\n",
    "             <3\n",
    "            )\"\"\"\n",
    "\n",
    "\n",
    "const URLS = r\"\"\"(?x)\n",
    "        (?:\n",
    "        https?:\n",
    "          (?:\n",
    "            /{1,3}\n",
    "            |\n",
    "            [a-z0-9%]\n",
    "          )\n",
    "          |\n",
    "          [a-z0-9.\\-]+[.]\n",
    "          (?:[a-z]{2,13})\n",
    "          /\n",
    "        )\n",
    "        (?:\n",
    "          [^\\s()<>{}\\[\\]]+\n",
    "          |\n",
    "          \\([^\\s()]*?\\([^\\s()]+\\)[^\\s()]*?\\)\n",
    "          |\n",
    "          \\([^\\s]+?\\)\n",
    "        )+\n",
    "        (?:\n",
    "          \\([^\\s()]*?\\([^\\s()]+\\)[^\\s()]*?\\)\n",
    "          |\n",
    "          \\([^\\s]+?\\)\n",
    "          |\n",
    "          [^\\s`!()\\[\\]{};:'\".,<>?«»“”‘’]\n",
    "        )\n",
    "        |\n",
    "        (?:\n",
    "                (?<!@)\n",
    "          [a-z0-9]+\n",
    "          (?:[.\\-][a-z0-9]+)*\n",
    "          [.]\n",
    "          (?:[a-z]{2,13})\n",
    "          \\b\n",
    "          /?\n",
    "          (?!@)\n",
    "        )\n",
    "      \"\"\"\n",
    "\n",
    "\n",
    "const PHONE_NUMBERS = r\"\"\"(?x)\n",
    "           (?:\n",
    "             (?:\n",
    "               \\+?[01]\n",
    "               [ *\\-.\\)]*\n",
    "             )?\n",
    "             (?:\n",
    "               [\\(]?\n",
    "               \\d{3}\n",
    "               [ *\\-.\\)]*\n",
    "             )?\n",
    "             \\d{3}\n",
    "             [ *\\-.\\)]*\n",
    "             \\d{4}\n",
    "           )\"\"\"\n",
    "\n",
    "\n",
    "const HTML_TAGS = r\"\"\"<[^>\\s]+>\"\"\"\n",
    "const ASCII_ARROWS = r\"\"\"[\\-]+>|<[\\-]+\"\"\"\n",
    "const TWITTER_USERNAME = r\"\"\"(?:@[\\w_]+)\"\"\"\n",
    "const TWITTER_HASHTAGS = r\"\"\"(?:\\#+[\\w_]+[\\w\\'_\\-]*[\\w_]+)\"\"\"\n",
    "const EMAIL_ADDRESSES = r\"\"\"[\\w.+-]+@[\\w-]+\\.(?:[\\w-]\\.?)+[\\w-]\"\"\"\n",
    "const WORDS_WITH_APOSTROPHE_DASHES = r\"\"\"(?:[^\\W\\d_](?:[^\\W\\d_]|['\\-_])+[^\\W\\d_])\"\"\"\n",
    "const NUMBERS_FRACTIONS_DECIMALS = r\"\"\"(?:[+\\-]?\\d+[,/.:-]\\d+[+\\-]?)\"\"\"\n",
    "const ELLIPSIS_DOTS = r\"\"\"(?:\\.(?:\\s*\\.){1,})\"\"\"\n",
    "const WORDS_WITHOUT_APOSTROPHE_DASHES = r\"\"\"(?:[\\w_]+)\"\"\"\n",
    "\n",
    "\n",
    "\n",
    "const WORD_REGEX = Regex(\"(?i:\" * join([URLS.pattern\n",
    "                        PHONE_NUMBERS.pattern\n",
    "                        EMOTICONS_REGEX.pattern\n",
    "                        HTML_TAGS.pattern\n",
    "                        ASCII_ARROWS.pattern\n",
    "                        TWITTER_USERNAME.pattern\n",
    "                        TWITTER_HASHTAGS.pattern\n",
    "                        EMAIL_ADDRESSES.pattern\n",
    "                        WORDS_WITH_APOSTROPHE_DASHES.pattern\n",
    "                        NUMBERS_FRACTIONS_DECIMALS.pattern\n",
    "                        WORDS_WITHOUT_APOSTROPHE_DASHES.pattern\n",
    "                        ELLIPSIS_DOTS.pattern\n",
    "                        r\"(?:\\S)\".pattern\n",
    "                        ], \"|\")\n",
    "                        * \")\"\n",
    "                    )\n",
    "\n",
    "\n",
    "const HANG_REGEX = r\"\"\"([^a-zA-Z0-9])\\1{3,}\"\"\"\n",
    "\n",
    "const HTML_ENTITIES_REGEX = r\"\"\"&(#?(x?))([^&;\\s]+);\"\"\"\n",
    "\n",
    "const HANDLES_REGEX = r\"\"\"(?x)\n",
    "                (?<![A-Za-z0-9_!@#\\$%&*])@(([A-Za-z0-9_]){20}(?!@))\n",
    "                |\n",
    "                (?<![A-Za-z0-9_!@#\\$%&*])@(([A-Za-z0-9_]){1,19})(?![A-Za-z0-9_]*@)\n",
    "                \"\"\"\n"
   ]
  },
  {
   "cell_type": "code",
   "execution_count": 14,
   "metadata": {},
   "outputs": [
    {
     "data": {
      "text/plain": [
       "replace_html_entities"
      ]
     },
     "execution_count": 14,
     "metadata": {},
     "output_type": "execute_result"
    }
   ],
   "source": [
    "\"\"\"\n",
    "    replace_html_entities(input_text::AbstractString,\n",
    "                    remove_illegal=true) => (entities_replaced_text::AbstractString)\n",
    "\n",
    "Removes entities from text by converting them to their corresponding unicode character.\n",
    "\"\"\"\n",
    "function replace_html_entities(input_text::AbstractString, parameter; remove_illegal=true)\n",
    "\n",
    "    function convert_entity(matched_text)\n",
    "        # HTML entity can be named or encoded in Decimal/Hex form\n",
    "        # - Named_entity : \"&Delta;\" => \"Δ\",\n",
    "        # - Decimal : \"&#916;\" => \"Δ\",\n",
    "        # - Hex : \"&#x394;\" => \"Δ\",\n",
    "        #\n",
    "        # However for bytes (hex) 80-9f are interpreted in Windows-1252\n",
    "        is_numeric_encoded, is_hex_encoded, entity_text = match(HTML_ENTITIES_REGEX,\n",
    "                                                matched_text).captures\n",
    "        number = -1\n",
    "\n",
    "        if isempty(is_numeric_encoded) \n",
    "            parameter[\"Entity_Not_Numeric\"] += 1 ################## PARAMETER 1 - Entity_Not_Numeric #############\n",
    "            return lookupname(HTML_Entities.default, entity_text)\n",
    "        else\n",
    "            if isempty(is_hex_encoded) \n",
    "                parameter[\"Entity_Base_10\"] += 1 ################## PARAMETER 2 - Entity_Base_10 #################\n",
    "                is_numeric = all(isdigit, entity_text)\n",
    "                if is_numeric\n",
    "                    number = parse(Int, entity_text, base=10)\n",
    "                end\n",
    "            else\n",
    "                parameter[\"Entity_Base_16\"] += 1 ################## PARAMETER 3 - Entity_Base_16 #################\n",
    "                base_16_letters = ('a', 'b', 'c', 'd', 'e', 'f')\n",
    "                is_base_16 = all(entity_text) do i\n",
    "                    isdigit(i) || i in base_16_letters\n",
    "                end\n",
    "                if is_base_16\n",
    "                    number = parse(Int, entity_text, base=16)\n",
    "                end\n",
    "            end\n",
    "\n",
    "            # Numeric character references in the 80-9F range are typically\n",
    "            # interpreted by browsers as representing the characters mapped\n",
    "            # to bytes 80-9F in the Windows-1252 encoding. For more info\n",
    "            # see: https://en.wikipedia.org/wiki/ISO/IEC_8859-1#Similar_character_sets\n",
    "\n",
    "            if number >= 0\n",
    "                if 0x80 <= number <= 0x9F \n",
    "                    if number ∉ (129, 141, 143, 144, 157) \n",
    "                        parameter[\"Entity_WINDOWS_1252\"] += 1 ##### PARAMETER 4 - Entity_WINDOWS-1252 ############\n",
    "                        return decode([UInt8(number)], \"WINDOWS-1252\")\n",
    "                    end\n",
    "                elseif Unicode.isassigned(number)\n",
    "                        return Char(number)\n",
    "                end\n",
    "            end\n",
    "        end\n",
    "\n",
    "        if remove_illegal\n",
    "            return \"\"\n",
    "        else\n",
    "            return matched_text\n",
    "        end\n",
    "    end\n",
    "\n",
    "    entities_replaced_text = replace(input_text, HTML_ENTITIES_REGEX => convert_entity)\n",
    "    return entities_replaced_text\n",
    "end\n"
   ]
  },
  {
   "cell_type": "code",
   "execution_count": 16,
   "metadata": {},
   "outputs": [
    {
     "data": {
      "text/plain": [
       "tweet_tokenize"
      ]
     },
     "execution_count": 16,
     "metadata": {},
     "output_type": "execute_result"
    }
   ],
   "source": [
    "\"\"\"\n",
    "    The key tokenizing function.\n",
    "\"\"\"\n",
    "function tweet_tokenize(source::AbstractString, parameter;\n",
    "                            strip_handle=false,\n",
    "                            reduce_len=false,\n",
    "                            preserve_case=true)\n",
    "\n",
    "    \n",
    "    # Fix HTML Character entities\n",
    "    ################################################# PARAMETER 1-4  : Based on HTML Entities ####################\n",
    "    source = replace_html_entities(source, parameter)\n",
    "    \n",
    "    if strip_handle ################################# PARAMETER 5 - Strip_Handles ################################\n",
    "        parameter[\"Strip_Handles\"] += length(collect((m.match for m=eachmatch(HANDLES_REGEX,source,overlap=false))))\n",
    "        source = replace(source, HANDLES_REGEX => \" \")\n",
    "    end\n",
    "    \n",
    "    if reduce_len#################################### PARAMETER 6 - Reduce_len ###################################\n",
    "        parameter[\"Reduce_len\"] += length(collect(( m.match for m=eachmatch(r\"(.)\\1{2,}\",source,overlap=false))))\n",
    "        source = replace(source, r\"(.)\\1{2,}\" => s\"\\1\\1\\1\")\n",
    "    end\n",
    "    \n",
    "    ################################################# PARAMETER 7 - Safe_Text ####################################\n",
    "    SAFE_PATTERN = r\"\"\"([^a-zA-Z0-9])\\1{3,}\"\"\"\n",
    "    parameter[\"Safe_Text\"] += length(collect(( m.match for m=eachmatch(SAFE_PATTERN,source,overlap=false))))\n",
    "    safe_text = replace(source, r\"\"\"([^a-zA-Z0-9])\\1{3,}\"\"\" => s\"\\1\\1\\1\")\n",
    "    \n",
    "    \n",
    "    tokens = collect((m.match for m in eachmatch(WORD_REGEX,\n",
    "                                            safe_text,\n",
    "                                            overlap=false)))\n",
    "    \n",
    "    if  !preserve_case\n",
    "        for (index, word) in enumerate(tokens)\n",
    "            if !occursin(EMOTICONS_REGEX, word)\n",
    "                tokens[index] = lowercase(word)\n",
    "            end\n",
    "        end\n",
    "    end\n",
    "\n",
    "    return tokens\n",
    "end\n"
   ]
  },
  {
   "cell_type": "code",
   "execution_count": 17,
   "metadata": {},
   "outputs": [
    {
     "data": {
      "text/plain": [
       "0"
      ]
     },
     "execution_count": 17,
     "metadata": {},
     "output_type": "execute_result"
    }
   ],
   "source": [
    "\"\"\"\n",
    "The features I am considering to count are:\n",
    "- Parameter Inside Replace HTML Entities \n",
    "1. Entity_Not_Numeric     # This could be something like &amp; => &\n",
    "2. Entity_Base_10         # Is Base 10 numeric encoded, Like this \"&#916;\" => \"Δ\"\n",
    "3. Entity_Base_16         # Is Base 16 numeric encoded, Like this \"&#x394;\" => \"Δ\"\n",
    "4. Entity_WINDOWS_1252    # Is the entity being interpreted by the browser as \n",
    "\n",
    "- Parameter Outside Replace HTML Entities\n",
    "5. Strip_handles \n",
    "6. Reduce_len \n",
    "7. Safe_Text \n",
    "\"\"\"\n",
    "parameter = Dict{String,Number}()\n",
    "parameter[\"Strip_Handles\"] = 0\n",
    "parameter[\"Reduce_len\"] = 0\n",
    "parameter[\"Safe_Text\"] = 0\n",
    "parameter[\"Entity_Not_Numeric\"] = 0\n",
    "parameter[\"Entity_Base_10\"] = 0\n",
    "parameter[\"Entity_Base_16\"] = 0\n",
    "parameter[\"Entity_WINDOWS_1252\"] = 0\n"
   ]
  },
  {
   "cell_type": "code",
   "execution_count": 18,
   "metadata": {},
   "outputs": [
    {
     "data": {
      "text/plain": [
       "Dict{String,Number} with 7 entries:\n",
       "  \"Safe_Text\"           => 0\n",
       "  \"Entity_WINDOWS_1252\" => 0\n",
       "  \"Reduce_len\"          => 2044\n",
       "  \"Entity_Base_16\"      => 0\n",
       "  \"Strip_Handles\"       => 5897\n",
       "  \"Entity_Not_Numeric\"  => 358\n",
       "  \"Entity_Base_10\"      => 0"
      ]
     },
     "execution_count": 18,
     "metadata": {},
     "output_type": "execute_result"
    }
   ],
   "source": [
    "###########################################################################\n",
    "\n",
    "########################## Count on API_Tweets ############################\n",
    "\n",
    "###########################################################################\n",
    "\n",
    "parameter[\"Strip_Handles\"] = 0\n",
    "parameter[\"Reduce_len\"] = 0\n",
    "parameter[\"Safe_Text\"] = 0\n",
    "parameter[\"Entity_Not_Numeric\"] = 0\n",
    "parameter[\"Entity_Base_10\"] = 0\n",
    "parameter[\"Entity_Base_16\"] = 0\n",
    "parameter[\"Entity_WINDOWS_1252\"] = 0\n",
    "for key in keys(API_Tweets)\n",
    "#     println(typeof(API_Tweets[key]))\n",
    "    for tweet in API_Tweets[key]\n",
    "        tweet_tokenize(tweet,parameter,strip_handle=true,reduce_len=true)\n",
    "    end\n",
    "end\n",
    "parameter"
   ]
  },
  {
   "cell_type": "code",
   "execution_count": 19,
   "metadata": {},
   "outputs": [
    {
     "data": {
      "text/plain": [
       "Dict{String,Number} with 7 entries:\n",
       "  \"Safe_Text\"           => 0\n",
       "  \"Entity_WINDOWS_1252\" => 0\n",
       "  \"Reduce_len\"          => 20037\n",
       "  \"Entity_Base_16\"      => 0\n",
       "  \"Strip_Handles\"       => 16728\n",
       "  \"Entity_Not_Numeric\"  => 3633\n",
       "  \"Entity_Base_10\"      => 0"
      ]
     },
     "execution_count": 19,
     "metadata": {},
     "output_type": "execute_result"
    }
   ],
   "source": [
    "###########################################################################\n",
    "\n",
    "################# Count on KAGGLE Emoji Competition Dataset ###############\n",
    "\n",
    "###########################################################################\n",
    "\n",
    "parameter[\"Strip_Handles\"] = 0\n",
    "parameter[\"Reduce_len\"] = 0\n",
    "parameter[\"Safe_Text\"] = 0\n",
    "parameter[\"Entity_Not_Numeric\"] = 0\n",
    "parameter[\"Entity_Base_10\"] = 0\n",
    "parameter[\"Entity_Base_16\"] = 0\n",
    "parameter[\"Entity_WINDOWS_1252\"] = 0\n",
    "for tweet in KAGGLE_Tweets_Emoji_Competition\n",
    "    tweet_tokenize(tweet,parameter,strip_handle=true,reduce_len=true)\n",
    "end\n",
    "parameter"
   ]
  },
  {
   "cell_type": "code",
   "execution_count": 20,
   "metadata": {},
   "outputs": [
    {
     "data": {
      "text/plain": [
       "Dict{String,Number} with 7 entries:\n",
       "  \"Safe_Text\"           => 0\n",
       "  \"Entity_WINDOWS_1252\" => 0\n",
       "  \"Reduce_len\"          => 2830\n",
       "  \"Entity_Base_16\"      => 0\n",
       "  \"Strip_Handles\"       => 4383\n",
       "  \"Entity_Not_Numeric\"  => 11\n",
       "  \"Entity_Base_10\"      => 0"
      ]
     },
     "execution_count": 20,
     "metadata": {},
     "output_type": "execute_result"
    }
   ],
   "source": [
    "###########################################################################\n",
    "\n",
    "############## Count on KAGGLE Tweets Users January 2019 Dataset ##########\n",
    "\n",
    "###########################################################################\n",
    "\n",
    "parameter[\"Strip_Handles\"] = 0\n",
    "parameter[\"Reduce_len\"] = 0\n",
    "parameter[\"Safe_Text\"] = 0\n",
    "parameter[\"Entity_Not_Numeric\"] = 0\n",
    "parameter[\"Entity_Base_10\"] = 0\n",
    "parameter[\"Entity_Base_16\"] = 0\n",
    "parameter[\"Entity_WINDOWS_1252\"] = 0\n",
    "for tweet in KAGGLE_Tweets_User_Jan\n",
    "    tweet_tokenize(tweet,parameter,strip_handle=true,reduce_len=true)\n",
    "end\n",
    "parameter"
   ]
  },
  {
   "cell_type": "code",
   "execution_count": 21,
   "metadata": {},
   "outputs": [
    {
     "data": {
      "text/plain": [
       "Dict{String,Number} with 7 entries:\n",
       "  \"Safe_Text\"           => 0\n",
       "  \"Entity_WINDOWS_1252\" => 1\n",
       "  \"Reduce_len\"          => 0\n",
       "  \"Entity_Base_16\"      => 1\n",
       "  \"Strip_Handles\"       => 0\n",
       "  \"Entity_Not_Numeric\"  => 0\n",
       "  \"Entity_Base_10\"      => 2"
      ]
     },
     "execution_count": 21,
     "metadata": {},
     "output_type": "execute_result"
    }
   ],
   "source": [
    "parameter[\"Strip_Handles\"] = 0\n",
    "parameter[\"Reduce_len\"] = 0\n",
    "parameter[\"Safe_Text\"] = 0\n",
    "parameter[\"Entity_Not_Numeric\"] = 0\n",
    "parameter[\"Entity_Base_10\"] = 0\n",
    "parameter[\"Entity_Base_16\"] = 0\n",
    "parameter[\"Entity_WINDOWS_1252\"] = 0\n",
    "tweet_tokenize(\"&#916; Check if the count thing works for Base10 . This one too Hexa Base -> &#x394; . Also the windows one - &#130;\",parameter,strip_handle=true,reduce_len=true)\n",
    "parameter # NOTE : for token &#130; above, it uses both \"Entity_Base_10\" as well as \"Entity_WINDOWS_1252\"\n"
   ]
  },
  {
   "cell_type": "code",
   "execution_count": null,
   "metadata": {},
   "outputs": [],
   "source": []
  },
  {
   "cell_type": "code",
   "execution_count": null,
   "metadata": {},
   "outputs": [],
   "source": []
  }
 ],
 "metadata": {
  "kernelspec": {
   "display_name": "Julia 1.0.3",
   "language": "julia",
   "name": "julia-1.0"
  },
  "language_info": {
   "file_extension": ".jl",
   "mimetype": "application/julia",
   "name": "julia",
   "version": "1.0.3"
  }
 },
 "nbformat": 4,
 "nbformat_minor": 2
}
